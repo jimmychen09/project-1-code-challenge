{
 "cells": [
  {
   "cell_type": "markdown",
   "metadata": {},
   "source": [
    "<img src=\"http://imgur.com/1ZcRyrc.png\" style=\"float: left; margin: 20px; height: 55px\">\n",
    "\n",
    "# Project 1: Python Coding Exercises\n",
    "\n",
    "_Authors: Joseph Nelson (DC)_\n",
    "\n",
    "---"
   ]
  },
  {
   "cell_type": "markdown",
   "metadata": {},
   "source": [
    "The following code challenges are drawn from common exercises used in technical interviews.\n",
    "\n",
    "Please note that there may be several ways to approach each challenge. If you get stuck, try mapping out your approach in pseudocode first. Finally, while solutions to problems like these may be found online, remember that if you copy/paste code that you can't explain, you'll be missing out on the point of the project. The only way to truly learn a new skill is through practice, trial, and error - we can only help you improve by understanding where you are having trouble."
   ]
  },
  {
   "cell_type": "markdown",
   "metadata": {},
   "source": [
    "### Challenge 1: Largest Palindrome\n",
    "A palindromic number reads the same both ways. For example, 1234321 is a palindrome. The largest palindrome made from the product of two two-digit numbers is 9009 = 91 × 99. Find the largest palindrome made from the product of two three-digit numbers. Afterward, write a brief explanation walking through your code's logic in markdown."
   ]
  },
  {
   "cell_type": "code",
   "execution_count": 5,
   "metadata": {},
   "outputs": [
    {
     "name": "stdout",
     "output_type": "stream",
     "text": [
      "993 * 913 = 906609 is the largest palindrome.\n",
      "This took 0.49997425079345703 seconds to run\n"
     ]
    }
   ],
   "source": [
    "import time\n",
    "start_time = time.time()\n",
    "\n",
    "# starting variables, including the maximum 3 digit number, \n",
    "# and initialising with smallest pali of 0\n",
    "max_num = 999\n",
    "largest_pali = 0\n",
    "\n",
    "# iterating through from max_num --> 100 for each interation without repitition\n",
    "for x in range(max_num, 99, -1):\n",
    "    for y in range(x, 99, -1):\n",
    "        product = x * y\n",
    "        # checks if product is a palindrome against its reverse string and\n",
    "        # if product is larger than existing palindrome, the values are assigned\n",
    "        if ((str(product) == str(product)[::-1]) and \n",
    "            product > largest_pali):\n",
    "            largest_pali = product\n",
    "            largest_x, largest_y = [x, y]\n",
    "\n",
    "print(\"{0} * {1} = {2} is the largest palindrome.\"\n",
    "      .format(largest_x, largest_y, largest_pali))\n",
    "print(\"This took\", time.time() - start_time, \"seconds to run\")"
   ]
  },
  {
   "cell_type": "markdown",
   "metadata": {},
   "source": [
    "### Walkthrough: Largest Palindrome\n",
    "- This program iterates three-digit numbers from largest to smallest for every iteration without repitition (ie. in reverse and with repititions removed), using a nested for loop.\n",
    "- It determines whether the product of two numbers is a palidrome by comparing the `product` string against its reverse `product[::-1]` string. \n",
    "- String allows order to be reversed, whereas an integer cannot.\n",
    "- It also determines whether the `product` is larger than the existing value within `largest_pali`.\n",
    "- The variable `largest_pali` will only hold the largest palidrome product.\n",
    "- The variables `largest_x` and `largest_y` are one instance of values that create the largest palidrome.\n",
    "- The final results are printed outside of the nested for loops."
   ]
  },
  {
   "cell_type": "markdown",
   "metadata": {},
   "source": [
    "\n",
    "### Challenge 2: Summation of Primes\n",
    "The sum of the primes below 10 is 2 + 3 + 5 + 7 = 17. Find the sum of all the primes below 2,000. Afterward, write a brief explanation walking through your code's logic in markdown."
   ]
  },
  {
   "cell_type": "code",
   "execution_count": 8,
   "metadata": {},
   "outputs": [
    {
     "name": "stdout",
     "output_type": "stream",
     "text": [
      "277050 is the sum of all prime numbers below 2000.\n"
     ]
    }
   ],
   "source": [
    "# Credit to Hai for letting me know about \n",
    "# dividing by other primes to improve efficiency\n",
    "max_num = 2000\n",
    "prime_list = []\n",
    "\n",
    "for num in range(2, max_num + 1):\n",
    "    count = [num for primes \n",
    "             in prime_list \n",
    "             if (num % primes == 0)]\n",
    "    if len(count) == 0:\n",
    "         prime_list.append(num)\n",
    "\n",
    "print(\"{0} is the sum of all prime numbers below {1}.\"\n",
    "      .format(sum(prime_list), max_num))\n",
    "\n",
    "\n",
    "# # below is an earlier code version\n",
    "\n",
    "# def divisors(dividend):\n",
    "#     # count provides a list of all divisors\n",
    "#     count = [i for i in range(1, dividend + 1) if (dividend % i == 0)]\n",
    "#     return count\n",
    "\n",
    "# for num in range(1, max_num + 1):\n",
    "#     count = divisors(num)\n",
    "#     # prime numbers are only divisible by itself and one\n",
    "#     if len(count) == 2:\n",
    "#         prime_list.append(num)"
   ]
  },
  {
   "cell_type": "markdown",
   "metadata": {},
   "source": [
    "### Walkthrough: Summation of Primes\n",
    "- The program assumes the first prime number starts at 2 (not 1).\n",
    "- It starts by iterating numbers from 2 to 2000 (`max_num`).\n",
    "- A number is not prime if it can be divided by a smaller prime.\n",
    "- If a number cannot be divided by other primes, it will be added to the `prime_list`.\n",
    "- The process continues as the number and prime numbers increase with iterations.\n",
    "- A sum function finds the sum of all elements within the `prime_list`."
   ]
  },
  {
   "cell_type": "markdown",
   "metadata": {},
   "source": [
    "### Challenge 3: Multiples of 3 and 5\n",
    "If we list all of the natural numbers below 10 that are multiples of 3 or 5, we get 3, 5, 6, and 9. The sum of these multiples is 23. Find the sum of all the multiples of 3 and 5 below 1,000. Afterward, write a brief explanation walking through your code's logic in markdown."
   ]
  },
  {
   "cell_type": "code",
   "execution_count": 9,
   "metadata": {},
   "outputs": [
    {
     "name": "stdout",
     "output_type": "stream",
     "text": [
      "233168 is the answer.\n"
     ]
    }
   ],
   "source": [
    "multiples = []\n",
    "\n",
    "for i in range(0, 1000, 3):\n",
    "    multiples.append(i)\n",
    "for i in range(0, 1000, 5):\n",
    "    if i not in multiples:\n",
    "        multiples.append(i)\n",
    "\n",
    "print(\"%d is the answer.\" % sum(multiples))"
   ]
  },
  {
   "cell_type": "markdown",
   "metadata": {},
   "source": [
    "### Walkthrough: Multiples of 3 and 5\n",
    "- This program adds multiples of 3 to a list called multiples.\n",
    "- Then it adds multiples of 5 to the same list, only if it does not exist in the list.\n",
    "- A sum function to find the sum of all elements within the list."
   ]
  },
  {
   "cell_type": "markdown",
   "metadata": {},
   "source": [
    "### Challenge 4: String Compressor\n",
    "Implement a method to perform basic string compression using the counts of repeated characters. (This is called run-length encoding.) For example, the string \"aabcccccaaa\" would become a2b1c5a3. If the “compressed” string would not become smaller than the original string, your method should return the original string. You can assume the string has only uppercase and lowercase letters (a–z). Specify whether your solution is case sensitive or case insensitive and what you would need to change to make it the other. Afterward, write a brief explanation walking through your code's logic in markdown."
   ]
  },
  {
   "cell_type": "code",
   "execution_count": 4,
   "metadata": {},
   "outputs": [
    {
     "ename": "IndexError",
     "evalue": "list index out of range",
     "output_type": "error",
     "traceback": [
      "\u001b[0;31m-------------------------------------------------------------------------\u001b[0m",
      "\u001b[0;31mIndexError\u001b[0m                              Traceback (most recent call last)",
      "\u001b[0;32m<ipython-input-4-b60323cbf1b3>\u001b[0m in \u001b[0;36m<module>\u001b[0;34m()\u001b[0m\n\u001b[1;32m      7\u001b[0m     \u001b[0;32mif\u001b[0m \u001b[0;32mnot\u001b[0m \u001b[0mword_comp\u001b[0m\u001b[0;34m:\u001b[0m\u001b[0;34m\u001b[0m\u001b[0m\n\u001b[1;32m      8\u001b[0m         \u001b[0mword_comp\u001b[0m\u001b[0;34m.\u001b[0m\u001b[0mappend\u001b[0m\u001b[0;34m(\u001b[0m\u001b[0mletter\u001b[0m\u001b[0;34m)\u001b[0m\u001b[0;34m\u001b[0m\u001b[0m\n\u001b[0;32m----> 9\u001b[0;31m     \u001b[0;32melif\u001b[0m \u001b[0mletter\u001b[0m \u001b[0;34m==\u001b[0m \u001b[0mword_comp\u001b[0m\u001b[0;34m[\u001b[0m\u001b[0;34m-\u001b[0m\u001b[0;36m1\u001b[0m\u001b[0;34m]\u001b[0m \u001b[0;32mor\u001b[0m \u001b[0mletter\u001b[0m \u001b[0;34m==\u001b[0m \u001b[0mword_comp\u001b[0m\u001b[0;34m[\u001b[0m\u001b[0;34m-\u001b[0m\u001b[0;36m2\u001b[0m\u001b[0;34m]\u001b[0m\u001b[0;34m:\u001b[0m\u001b[0;34m\u001b[0m\u001b[0m\n\u001b[0m\u001b[1;32m     10\u001b[0m         \u001b[0mword_comp\u001b[0m\u001b[0;34m[\u001b[0m\u001b[0;34m-\u001b[0m\u001b[0;36m1\u001b[0m\u001b[0;34m]\u001b[0m \u001b[0;34m=\u001b[0m \u001b[0mcount\u001b[0m\u001b[0;34m\u001b[0m\u001b[0m\n\u001b[1;32m     11\u001b[0m     \u001b[0;32melse\u001b[0m\u001b[0;34m:\u001b[0m\u001b[0;34m\u001b[0m\u001b[0m\n",
      "\u001b[0;31mIndexError\u001b[0m: list index out of range"
     ]
    }
   ],
   "source": [
    "word = \"aabcccccaaa\"\n",
    "word_comp = []\n",
    "count = 1\n",
    "\n",
    "for letter in word:\n",
    "    \n",
    "    if not word_comp:\n",
    "        word_comp.append(letter)\n",
    "    elif letter == word_comp[-1] or letter == word_comp[-2]:\n",
    "        word_comp[-1] = count\n",
    "    else:\n",
    "        count = 1\n",
    "        word_comp.append(letter)\n",
    "        word_comp.append(count)\n",
    "        \n",
    "print(word_comp)\n"
   ]
  },
  {
   "cell_type": "markdown",
   "metadata": {},
   "source": [
    "### *BONUS* Challenge: FizzBuzz+\n",
    "Write a program that prints all of the numbers from 1 to 30. For multiples of 3, instead of the number, print \"Fizz;\" for multiples of 5, print \"Buzz.\""
   ]
  },
  {
   "cell_type": "code",
   "execution_count": null,
   "metadata": {},
   "outputs": [],
   "source": [
    "for i in range(1, 31):\n",
    "    if (i % 3 == 0) and (i % 5 == 0):\n",
    "        print(\"FizzBuzz\")\n",
    "    elif i % 3 == 0:\n",
    "        print(\"Fizz\")\n",
    "    elif i % 5 == 0:\n",
    "        print(\"Buzz\")\n",
    "    else:\n",
    "        print(i)"
   ]
  },
  {
   "cell_type": "markdown",
   "metadata": {},
   "source": [
    "Suppose you wanted to print arbitrary sets of number-word combinations. For example, for a range of numbers from 11 to 42, if the number is a multiple of 5 print \"Star\", if it is a multiple of 6 print \"Chocolate\", and if it is a multiple of 7 print \"Belgium\". \n",
    "\n",
    "Convert your earlier code into a function that takes a range of numbers, and 2 lists of equal lengths as arguments. First list should be a list of numbers, and second list would be a set of corresponding words to print if the number is divisible without remainder.  \n",
    "\n",
    "If you call `fizz_buzz((1,30), [3,5], ['Fizz','Buzz'])`  \n",
    "The function should produce the same result as before.\n",
    "\n",
    "Please make sure that you test your function."
   ]
  },
  {
   "cell_type": "code",
   "execution_count": null,
   "metadata": {},
   "outputs": [],
   "source": [
    "num = [5, 6, 7]\n",
    "words = [\"Star\", \"Chocolate\", \"Belgium\"]\n",
    "\n",
    "import pandas as pd\n",
    "users = pd.dataframe[\"1\",\"2\"]\n",
    "users.head()"
   ]
  },
  {
   "cell_type": "code",
   "execution_count": null,
   "metadata": {},
   "outputs": [],
   "source": []
  }
 ],
 "metadata": {
  "anaconda-cloud": {},
  "kernelspec": {
   "display_name": "Python 3",
   "language": "python",
   "name": "python3"
  },
  "language_info": {
   "codemirror_mode": {
    "name": "ipython",
    "version": 3
   },
   "file_extension": ".py",
   "mimetype": "text/x-python",
   "name": "python",
   "nbconvert_exporter": "python",
   "pygments_lexer": "ipython3",
   "version": "3.7.0"
  }
 },
 "nbformat": 4,
 "nbformat_minor": 2
}
