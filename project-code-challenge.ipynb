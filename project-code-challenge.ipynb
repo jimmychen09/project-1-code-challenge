{
 "cells": [
  {
   "cell_type": "markdown",
   "metadata": {},
   "source": [
    "<img src=\"http://imgur.com/1ZcRyrc.png\" style=\"float: left; margin: 20px; height: 55px\">\n",
    "\n",
    "# Project 1: Python Coding Exercises\n",
    "\n",
    "_Authors: Joseph Nelson (DC)_\n",
    "\n",
    "---"
   ]
  },
  {
   "cell_type": "markdown",
   "metadata": {},
   "source": [
    "The following code challenges are drawn from common exercises used in technical interviews.\n",
    "\n",
    "Please note that there may be several ways to approach each challenge. If you get stuck, try mapping out your approach in pseudocode first. Finally, while solutions to problems like these may be found online, remember that if you copy/paste code that you can't explain, you'll be missing out on the point of the project. The only way to truly learn a new skill is through practice, trial, and error - we can only help you improve by understanding where you are having trouble."
   ]
  },
  {
   "cell_type": "markdown",
   "metadata": {},
   "source": [
    "### Challenge 1: Largest Palindrome\n",
    "A palindromic number reads the same both ways. For example, 1234321 is a palindrome. The largest palindrome made from the product of two two-digit numbers is 9009 = 91 × 99. Find the largest palindrome made from the product of two three-digit numbers. Afterward, write a brief explanation walking through your code's logic in markdown."
   ]
  },
  {
   "cell_type": "code",
   "execution_count": null,
   "metadata": {},
   "outputs": [],
   "source": [
    "import time\n",
    "start_time = time.time()\n",
    "\n",
    "# starting variables, including the maximum 3 digit number, \n",
    "# and initialising with smallest pali of 0\n",
    "max_num = 999\n",
    "largest_pali = 0\n",
    "\n",
    "# iterating from max_num --> 100 for each interation without repitition\n",
    "for x in range(max_num, 99, -1):\n",
    "    for y in range(x, 99, -1):\n",
    "        product = x * y\n",
    "        # checks if product is a palindrome against its reverse string and\n",
    "        # if product is larger than existing palindrome, the values are assigned\n",
    "        if ((str(product) == str(product)[::-1]) \n",
    "                and product > largest_pali):\n",
    "            largest_pali = product\n",
    "            largest_x, largest_y = [x, y]\n",
    "\n",
    "print(\"{0} * {1} = {2} is the largest palindrome.\"\n",
    "      .format(largest_x, largest_y, largest_pali))\n",
    "print(\"This took\", time.time() - start_time, \"seconds to run\")"
   ]
  },
  {
   "cell_type": "markdown",
   "metadata": {},
   "source": [
    "### Walkthrough: Largest Palindrome\n",
    "- This program iterates three-digit numbers from largest to smallest for every iteration without repitition (using a nested for loop)\n",
    "- It determines whether the product of two numbers is a palidrome by comparing the `product` string against its reverse `product[::-1]` string\n",
    "- String allows order to be reversed, whereas an integer cannot\n",
    "- It then determines whether the `product` is larger than the existing value within `largest_pali`\n",
    "- The variable `largest_pali` will only hold the largest palidrome product\n",
    "- The variables `largest_x` and `largest_y` are one instance of values that create the largest palidrome\n",
    "- The final results are printed outside of the nested for loops"
   ]
  },
  {
   "cell_type": "markdown",
   "metadata": {},
   "source": [
    "\n",
    "### Challenge 2: Summation of Primes\n",
    "The sum of the primes below 10 is 2 + 3 + 5 + 7 = 17. Find the sum of all the primes below 2,000. Afterward, write a brief explanation walking through your code's logic in markdown."
   ]
  },
  {
   "cell_type": "code",
   "execution_count": null,
   "metadata": {},
   "outputs": [],
   "source": [
    "# Credit to Hai for letting me know about \n",
    "# dividing by other primes for efficiency\n",
    "max_num = 2000\n",
    "prime_list = []\n",
    "\n",
    "for num in range(2, max_num + 1):\n",
    "    count = [num for primes \n",
    "             in prime_list \n",
    "             if (num % primes == 0)]\n",
    "    if len(count) == 0:\n",
    "         prime_list.append(num)\n",
    "\n",
    "print(\"{0} is the sum of all prime numbers below {1}.\"\n",
    "      .format(sum(prime_list), max_num))\n",
    "\n",
    "\n",
    "# # below is an earlier code version\n",
    "\n",
    "# def divisors(dividend):\n",
    "#     # count provides a list of all divisors\n",
    "#     count = [i for i in range(1, dividend + 1) if (dividend % i == 0)]\n",
    "#     return count\n",
    "\n",
    "# for num in range(1, max_num + 1):\n",
    "#     count = divisors(num)\n",
    "#     # prime numbers are only divisible by itself and one\n",
    "#     if len(count) == 2:\n",
    "#         prime_list.append(num)"
   ]
  },
  {
   "cell_type": "markdown",
   "metadata": {},
   "source": [
    "### Walkthrough: Summation of Primes\n",
    "- The program assumes the first prime number starts at 2 (not 1)\n",
    "- It starts by iterating numbers from 2 to 2000 (`max_num`)\n",
    "- `count` is a list of integer quotients for a number being divided by primes divisors\n",
    "- A number is not prime if it can be divided by a smaller prime\n",
    "- If a number cannot be divided by other primes, it will be added to `prime_list`\n",
    "- The process continues as the number and prime numbers increases with iteration\n",
    "- A sum function finds the sum of all elements within the `prime_list`"
   ]
  },
  {
   "cell_type": "markdown",
   "metadata": {},
   "source": [
    "### Challenge 3: Multiples of 3 and 5\n",
    "If we list all of the natural numbers below 10 that are multiples of 3 or 5, we get 3, 5, 6, and 9. The sum of these multiples is 23. Find the sum of all the multiples of 3 and 5 below 1,000. Afterward, write a brief explanation walking through your code's logic in markdown."
   ]
  },
  {
   "cell_type": "code",
   "execution_count": null,
   "metadata": {},
   "outputs": [],
   "source": [
    "multiples = []\n",
    "\n",
    "for i in range(0, 1000, 3):\n",
    "    multiples.append(i)\n",
    "for i in range(0, 1000, 5):\n",
    "    if i not in multiples:\n",
    "        multiples.append(i)\n",
    "\n",
    "print(\"%d is the answer.\" % sum(multiples))"
   ]
  },
  {
   "cell_type": "markdown",
   "metadata": {},
   "source": [
    "### Walkthrough: Multiples of 3 and 5\n",
    "- This program adds multiples of 3 to a list called multiples\n",
    "- Then it adds multiples of 5 to the same list, only if it does not exist in the list\n",
    "- A sum function to find the sum of all elements within the list"
   ]
  },
  {
   "cell_type": "markdown",
   "metadata": {},
   "source": [
    "### Challenge 4: String Compressor\n",
    "Implement a method to perform basic string compression using the counts of repeated characters. (This is called run-length encoding.) For example, the string \"aabcccccaaa\" would become a2b1c5a3. If the “compressed” string would not become smaller than the original string, your method should return the original string. You can assume the string has only uppercase and lowercase letters (a–z). Specify whether your solution is case sensitive or case insensitive and what you would need to change to make it the other. Afterward, write a brief explanation walking through your code's logic in markdown."
   ]
  },
  {
   "cell_type": "code",
   "execution_count": null,
   "metadata": {},
   "outputs": [],
   "source": [
    "def string_compression(word, case_sen):\n",
    "    count = 1\n",
    "    word_comp = \"\"\n",
    "    if case_sen == \"y\":\n",
    "        pass\n",
    "    else:\n",
    "        word = word.lower()\n",
    "    for letter in word:\n",
    "        # adding first letter to string compression\n",
    "        if not word_comp:\n",
    "            word_comp += letter\n",
    "        # if next letter is same as previous, \n",
    "        # increment count of repeat by first removing its 'old' count\n",
    "        elif letter == word_comp[-2]:\n",
    "            word_comp = word_comp[:-1]\n",
    "            count += 1\n",
    "        # this happens when the next letter is not the same as previous\n",
    "        else:\n",
    "            word_comp += letter\n",
    "            count = 1\n",
    "        word_comp += str(count)\n",
    "    return word_comp\n",
    "        \n",
    "def shorter_string(word, word_comp):\n",
    "    if len(word) <= len(word_comp):\n",
    "        return word\n",
    "    else:\n",
    "        return word_comp\n",
    "\n",
    "if __name__ == \"__main__\":\n",
    "    blah = \"aabCccccaaaaAaaa\"\n",
    "    word = input(\"Enter a word for compression: \")\n",
    "    case_sen = input(\"Is this case sensitive? (y/n): \")\n",
    "    word_comp = string_compression(word, case_sen)\n",
    "    output = shorter_string(word, word_comp)\n",
    "    print(output)"
   ]
  },
  {
   "cell_type": "markdown",
   "metadata": {},
   "source": [
    "### Walkthrough: String Compressor\n",
    "- The program has two functions, `string_compression` and `shorter_string`\n",
    "- `string_compression` accepts two arguments, `word` and `case_sen`\n",
    "- If `case_sen` is false, all letters are treated in lower case\n",
    "- It loops through every `letter`/char in `word` and has three options\n",
    "    1. Add first letter\n",
    "    2. If same letter, increment count and replace count\n",
    "    3. If new letter, add new letter and reset count\n",
    "- `shorter_string` accepts two arguments, `word` and `word_comp`\n",
    "- It returns the string with shorter length\n",
    "- The main function of the program calls the preceeding two functions and allows for user input, and provides an output\n"
   ]
  },
  {
   "cell_type": "markdown",
   "metadata": {},
   "source": [
    "### *BONUS* Challenge: FizzBuzz+\n",
    "Write a program that prints all of the numbers from 1 to 30. For multiples of 3, instead of the number, print \"Fizz;\" for multiples of 5, print \"Buzz.\""
   ]
  },
  {
   "cell_type": "code",
   "execution_count": null,
   "metadata": {},
   "outputs": [],
   "source": [
    "for i in range(1, 31):\n",
    "    if (i % 3 == 0) and (i % 5 == 0):\n",
    "        print(\"FizzBuzz\")\n",
    "    elif i % 3 == 0:\n",
    "        print(\"Fizz\")\n",
    "    elif i % 5 == 0:\n",
    "        print(\"Buzz\")\n",
    "    else:\n",
    "        print(i)"
   ]
  },
  {
   "cell_type": "markdown",
   "metadata": {},
   "source": [
    "Suppose you wanted to print arbitrary sets of number-word combinations. For example, for a range of numbers from 11 to 42, if the number is a multiple of 5 print \"Star\", if it is a multiple of 6 print \"Chocolate\", and if it is a multiple of 7 print \"Belgium\". \n",
    "\n",
    "Convert your earlier code into a function that takes a range of numbers, and 2 lists of equal lengths as arguments. First list should be a list of numbers, and second list would be a set of corresponding words to print if the number is divisible without remainder.  \n",
    "\n",
    "If you call `fizz_buzz((1,30), [3,5], ['Fizz','Buzz'])`  \n",
    "The function should produce the same result as before.\n",
    "\n",
    "Please make sure that you test your function."
   ]
  },
  {
   "cell_type": "code",
   "execution_count": null,
   "metadata": {},
   "outputs": [],
   "source": [
    "num_list = [5, 6, 7]\n",
    "word_list = [\"Star\", \"Chocolate\", \"Belgium\"]\n",
    "\n",
    "def fizz_buzz(num_range, num_list, word_list):\n",
    "    for i in range(num_range[0], num_range[1] + 1):\n",
    "        divisible_word = \"\"\n",
    "        # zip function iterates two lists in parallel\n",
    "        for num, word in zip(num_list, word_list):\n",
    "            if i % num == 0:\n",
    "                divisible_word += word\n",
    "        if not divisible_word:\n",
    "            print(i)\n",
    "        else:\n",
    "            print(divisible_word)\n",
    "\n",
    "fizz_buzz((1,30), num_list, word_list)\n",
    "\n",
    "# test for reproducibility\n",
    "# fizz_buzz((1,30), [3,5], ['Fizz','Buzz'])"
   ]
  },
  {
   "cell_type": "code",
   "execution_count": null,
   "metadata": {},
   "outputs": [],
   "source": []
  }
 ],
 "metadata": {
  "anaconda-cloud": {},
  "kernelspec": {
   "display_name": "Python 3",
   "language": "python",
   "name": "python3"
  },
  "language_info": {
   "codemirror_mode": {
    "name": "ipython",
    "version": 3
   },
   "file_extension": ".py",
   "mimetype": "text/x-python",
   "name": "python",
   "nbconvert_exporter": "python",
   "pygments_lexer": "ipython3",
   "version": "3.6.5"
  }
 },
 "nbformat": 4,
 "nbformat_minor": 2
}
